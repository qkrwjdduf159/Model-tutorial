{
 "cells": [
  {
   "cell_type": "markdown",
   "id": "fca59bdc",
   "metadata": {},
   "source": [
    "## R-CNN 이란?"
   ]
  },
  {
   "cell_type": "markdown",
   "id": "30637781",
   "metadata": {},
   "source": [
    "- Object Detection 분야에 딥러닝을 최초로 적용시킨 모델\n",
    "- bounding box를 찾고 클래스를 분류하는 모델\n",
    "- 2-stage detector의 최초의 모델"
   ]
  },
  {
   "cell_type": "code",
   "execution_count": null,
   "id": "5ef0597c",
   "metadata": {},
   "outputs": [],
   "source": []
  }
 ],
 "metadata": {
  "kernelspec": {
   "display_name": "Python 3 (ipykernel)",
   "language": "python",
   "name": "python3"
  },
  "language_info": {
   "codemirror_mode": {
    "name": "ipython",
    "version": 3
   },
   "file_extension": ".py",
   "mimetype": "text/x-python",
   "name": "python",
   "nbconvert_exporter": "python",
   "pygments_lexer": "ipython3",
   "version": "3.9.7"
  }
 },
 "nbformat": 4,
 "nbformat_minor": 5
}
