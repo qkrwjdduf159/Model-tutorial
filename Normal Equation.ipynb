{
 "cells": [
  {
   "cell_type": "markdown",
   "metadata": {},
   "source": [
    "## Normal Equation(정규방정식)\n",
    "\n",
    "우리는 이러한 Linear Regression이 있다고 가정하자.\n",
    "\n",
    "$$\\sum_{j=1}^{n} X_{ij} \\theta_j = y_i, (i = 1,2, \\dots, m)$$\n",
    "\n",
    "where X = Data point, $\\theta$ = paramete\n",
    "\n",
    "<img src = 'https://vitalflux.com/wp-content/uploads/2020/09/Regression-terminologies-Page-2.png'>"
   ]
  },
  {
   "cell_type": "markdown",
   "metadata": {},
   "source": [
    "우리는 Residual Error을 줄이는 것이 목표이다.\n",
    "\n",
    "즉, 궁극적인 목적은 MSE를 0으로 만드는 것이다.\n",
    "\n",
    "만약 $\\hat{y} = \\theta X$ 라고 할 때\n",
    "\n",
    "MSE는 $MSE(\\theta) = \\frac{1}{n} \\sum_{i=1}^{n} (y_{i} - \\theta^{T}_{i} X_{i})^2 $ 식을 갖게 된다.\n",
    "\n",
    "그러면 우리는 $\\theta$의 파라미터를 어떻게 구할 수 있을까?\n",
    "\n",
    "여기서 우리는 Normal Equation을 사용하게 되는데 $\\hat{\\theta}$ = $(X^T X)^{-1} X^T y$ 라는 식이 나오게 된다."
   ]
  },
  {
   "cell_type": "markdown",
   "metadata": {},
   "source": [
    "증명) \n",
    "\n",
    "$MSE(\\theta) = \\frac{1}{n} \\sum_{i=1}^{n} (y_{i} - \\theta^{T}_{i} X_{i})^2 $ 식을 행렬식으로 바꾸자.\n",
    "\n",
    "$MSE = \\frac{1}{n}(y - \\theta^{T} X)^2 $ 이제 $\\theta$를 기준으로 미분해보자.\n",
    "\n",
    "0 = $\\frac{2}{n}X^T(y - \\theta X)$\n",
    "\n",
    "0 =$X^T y - X^T X \\theta$\n",
    "\n",
    "$X^T y = X^T X \\theta$\n",
    "\n",
    "$\\theta = (X^T X)^{-1} X^T y$\n",
    "\n",
    "우리는 여기서 MSE가 최소가 되는 theta를 찾는 식을 구할 수 있다."
   ]
  },
  {
   "cell_type": "markdown",
   "metadata": {},
   "source": [
    "그러나 우리는 왜 이 식을 사용하지 않을까?\n",
    "\n",
    "1. 역행렬이 항상 존재하는 것은 아니기 때문에\n",
    "2. 데이터가 많은 데이터의 경우 역행렬을 구하는 연산량이 너무 크기 때문이다."
   ]
  },
  {
   "cell_type": "markdown",
   "metadata": {},
   "source": [
    "그래서 우리는 Gradient Descent 방법을 사용하여 연산량의 문제와 역행렬이 존재하지 않을 때의 방법을 개선한다."
   ]
  }
 ],
 "metadata": {
  "kernelspec": {
   "display_name": "Python 3",
   "language": "python",
   "name": "python3"
  },
  "language_info": {
   "codemirror_mode": {
    "name": "ipython",
    "version": 3
   },
   "file_extension": ".py",
   "mimetype": "text/x-python",
   "name": "python",
   "nbconvert_exporter": "python",
   "pygments_lexer": "ipython3",
   "version": "3.8.5"
  }
 },
 "nbformat": 4,
 "nbformat_minor": 4
}
