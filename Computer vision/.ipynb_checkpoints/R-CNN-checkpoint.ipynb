{
 "cells": [
  {
   "cell_type": "markdown",
   "id": "fca59bdc",
   "metadata": {},
   "source": [
    "## R-CNN(Regions with CNN features)"
   ]
  },
  {
   "cell_type": "markdown",
   "id": "30637781",
   "metadata": {},
   "source": [
    "- Object Detection 분야에 딥러닝을 최초로 적용시킨 모델\n",
    "- bounding box를 찾고 클래스를 분류하는 모델\n",
    "- 2-stage detector의 최초의 모델"
   ]
  },
  {
   "cell_type": "markdown",
   "id": "8dab6ce3",
   "metadata": {},
   "source": [
    "R-CNN의 논문 저자들은 2가지의 인사이트에 대해 설명한다.\n",
    "\n",
    "1. localize와 segmentation을 위해 bottom-up(상향식)방식의 region proposals에 CNN을 적용\n",
    "2. labeled data가 부족할 때, 보조작업(auxiliary task)를 supervised pre-training과 뒤를 이은 domain-specific fine-tuning을 통해 상당한 성능 향상"
   ]
  },
  {
   "cell_type": "markdown",
   "id": "4b28e5c7",
   "metadata": {},
   "source": [
    "<img src ='https://images.velog.io/images/skhim520/post/fa1ea5cf-6064-490d-ad52-dd6d5d00bbfe/image.png'>"
   ]
  },
  {
   "cell_type": "markdown",
   "id": "6ae06e5b",
   "metadata": {},
   "source": [
    "1. 이미지를 입력한다.\n",
    "\n",
    "2. 2000장의 region proposals를 추출한다.\n",
    "\n",
    "3. CNN을 각각 적용하여 region proposals의 특징을 계산한다.\n",
    "\n",
    "4. 각 region마다 linear SVMs를 이용하여 class를 분류한다."
   ]
  },
  {
   "cell_type": "code",
   "execution_count": null,
   "id": "5ef0597c",
   "metadata": {},
   "outputs": [],
   "source": []
  }
 ],
 "metadata": {
  "kernelspec": {
   "display_name": "Python 3 (ipykernel)",
   "language": "python",
   "name": "python3"
  },
  "language_info": {
   "codemirror_mode": {
    "name": "ipython",
    "version": 3
   },
   "file_extension": ".py",
   "mimetype": "text/x-python",
   "name": "python",
   "nbconvert_exporter": "python",
   "pygments_lexer": "ipython3",
   "version": "3.9.7"
  }
 },
 "nbformat": 4,
 "nbformat_minor": 5
}
